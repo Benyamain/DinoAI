{
 "cells": [
  {
   "cell_type": "markdown",
   "id": "3f23a561",
   "metadata": {},
   "source": [
    "# 1. Dependencies"
   ]
  },
  {
   "cell_type": "code",
   "execution_count": null,
   "id": "d010131c",
   "metadata": {},
   "outputs": [],
   "source": [
    "!pip install torch torchvision torchaudio\n",
    "!pip install stable-baselines3[extra] protobuf==3.20.*\n",
    "!pip install mss pydirectinput pytesseract"
   ]
  },
  {
   "cell_type": "code",
   "execution_count": null,
   "id": "89ddd14c",
   "metadata": {},
   "outputs": [],
   "source": [
    "#chrome://dino/"
   ]
  },
  {
   "cell_type": "code",
   "execution_count": null,
   "id": "7708e0e9",
   "metadata": {},
   "outputs": [],
   "source": [
    "# Screen capture faster than OpenCV\n",
    "from mss import mss\n",
    "# Sending commands (wasd)\n",
    "import pydirectinput\n",
    "# Frame processing\n",
    "import cv2\n",
    "# Transforming\n",
    "import numpy as np\n",
    "# OCR for 'game over' extraction\n",
    "# OCR: Optical Character Recognition\n",
    "import pytesseract\n",
    "# Visualize captured frames\n",
    "from matplotlib import pyplot as plt\n",
    "import time\n",
    "# Env components\n",
    "from gym import Env\n",
    "from gym.spaces import Box, Discrete"
   ]
  },
  {
   "cell_type": "markdown",
   "id": "f8b3302d",
   "metadata": {},
   "source": [
    "# 2. Environment"
   ]
  },
  {
   "cell_type": "code",
   "execution_count": null,
   "id": "31169dc0",
   "metadata": {},
   "outputs": [],
   "source": [
    "pytesseract.pytesseract.tesseract_cmd = r'C:\\Program Files\\Tesseract-OCR\\tesseract.exe'"
   ]
  },
  {
   "cell_type": "code",
   "execution_count": null,
   "id": "e55360f2",
   "metadata": {},
   "outputs": [],
   "source": [
    "class WebGame(Env):\n",
    "    \n",
    "    # Setup env, action, and obs shapes\n",
    "    def __init__(self):\n",
    "        # Subclass model\n",
    "        super().__init__()\n",
    "        # Spaces\n",
    "        # Box is a freeform shape (in our instance an array)\n",
    "        self.observation_space = Box(low=0, high=255, shape=(1,83,100), dtype=np.uint8)\n",
    "        self.action_space = Discrete(3)\n",
    "        # Extraction parameters for the game\n",
    "        self.cap = mss()\n",
    "        self.game_location = {'top': 300, 'left': 0, 'width': 600, 'height': 500}\n",
    "        self.done_location = {'top': 405, 'left': 630, 'width': 660, 'height': 70}\n",
    "    \n",
    "    def step(self, action):\n",
    "        # Action key(s): 0 for Spacebar (up), 1 for Duck (down), 2 for No Action (no operation)\n",
    "        action_map = {\n",
    "            0:'space',\n",
    "            1:'down',\n",
    "            2:'no_op'\n",
    "        }\n",
    "        \n",
    "        if action != 2:\n",
    "            pydirectinput.press(action_map[action])\n",
    "            \n",
    "        # Checking if game is done\n",
    "        done, done_cap = self.get_done()\n",
    "        # Get newest observation\n",
    "        observation = self.get_observation()\n",
    "        # Reward system: Dino gets a point for every frame that he is alive\n",
    "        reward = 1\n",
    "        # Info dictionary\n",
    "        info = {}\n",
    "        \n",
    "        return observation, reward, done, info\n",
    "    \n",
    "    def render(self):\n",
    "        cv2.imshow('Game', self.current_frame)\n",
    "        \n",
    "        # If user hits 'q' on their keyboard, close the frame\n",
    "        if cv2.waitKey(1) & 0xFF == ord('q'):\n",
    "            self.close()\n",
    "    \n",
    "    # Restart the game\n",
    "    def reset(self):\n",
    "        # Give time to reset\n",
    "        time.sleep(1)\n",
    "        pydirectinput.click(x=150,y=150)\n",
    "        pydirectinput.press('space')\n",
    "        \n",
    "        return self.get_observation()\n",
    "    \n",
    "    # Closes the obs\n",
    "    def close(self):\n",
    "        cv2.destroyAllWindows()\n",
    "    \n",
    "    # Capture a region of the game that we can use\n",
    "    def get_observation(self):\n",
    "        # Get screen capture of the game\n",
    "        raw = np.array(self.cap.grab(self.game_location))[:,:,:3].astype(np.uint8)\n",
    "        # Grayscale\n",
    "        gray = cv2.cvtColor(raw, cv2.COLOR_BGR2GRAY)\n",
    "        # Resize\n",
    "        resized = cv2.resize(gray, (100,83))\n",
    "        # Add channels first to match what stable baseline parameters are\n",
    "        channel = np.reshape(resized, (1,83,100))\n",
    "        \n",
    "        return channel\n",
    "    \n",
    "    # Get the 'game over' text that is displayed on the screen using OCR\n",
    "    def get_done(self):\n",
    "        done_cap = np.array(self.cap.grab(self.done_location))\n",
    "        # Valid done text\n",
    "        done_strings = ['GAME', 'GAHE']\n",
    "        \n",
    "        # Apply OCR\n",
    "        done = False\n",
    "        # Grabs the first four letters\n",
    "        res = pytesseract.image_to_string(done_cap)[:4]\n",
    "        \n",
    "        if res in done_strings:\n",
    "            done = True\n",
    "        \n",
    "        return done, done_cap"
   ]
  },
  {
   "cell_type": "code",
   "execution_count": null,
   "id": "5562615d",
   "metadata": {},
   "outputs": [],
   "source": [
    "env = WebGame()\n",
    "#env.action_space.sample()"
   ]
  },
  {
   "cell_type": "code",
   "execution_count": null,
   "id": "57a6072f",
   "metadata": {
    "scrolled": true
   },
   "outputs": [],
   "source": [
    "plt.imshow(env.observation_space.sample()[0])"
   ]
  },
  {
   "cell_type": "code",
   "execution_count": null,
   "id": "387a2411",
   "metadata": {},
   "outputs": [],
   "source": [
    "plt.imshow(cv2.cvtColor(env.get_observation()[0], cv2.COLOR_BGR2RGB))"
   ]
  },
  {
   "cell_type": "code",
   "execution_count": null,
   "id": "ba358dde",
   "metadata": {},
   "outputs": [],
   "source": [
    "env.reset()"
   ]
  },
  {
   "cell_type": "code",
   "execution_count": null,
   "id": "faa56047",
   "metadata": {},
   "outputs": [],
   "source": [
    "done, done_cap = env.get_done()\n",
    "print(done)"
   ]
  },
  {
   "cell_type": "code",
   "execution_count": null,
   "id": "63c166b1",
   "metadata": {},
   "outputs": [],
   "source": [
    "plt.imshow(done_cap)"
   ]
  },
  {
   "cell_type": "code",
   "execution_count": null,
   "id": "c0d4d566",
   "metadata": {},
   "outputs": [],
   "source": [
    "#for episode in range(10):\n",
    "    #obs = env.reset()\n",
    "    #done = False\n",
    "    #total_reward = 0\n",
    "    \n",
    "    #while not done:\n",
    "        #obs, reward, done, info = env.step(env.action_space.sample())\n",
    "        #total_reward += reward\n",
    "    #print('Total Reward for episode {} is {}'.format(episode, total_reward)) "
   ]
  },
  {
   "cell_type": "markdown",
   "id": "0eb3bea7",
   "metadata": {},
   "source": [
    "# 3. Train the Model"
   ]
  },
  {
   "cell_type": "code",
   "execution_count": null,
   "id": "612f5731",
   "metadata": {},
   "outputs": [],
   "source": [
    "# File management\n",
    "import os \n",
    "# Saving models\n",
    "from stable_baselines3.common.callbacks import BaseCallback\n",
    "# Environment    \n",
    "from stable_baselines3.common import env_checker"
   ]
  },
  {
   "cell_type": "code",
   "execution_count": null,
   "id": "18e6d649",
   "metadata": {},
   "outputs": [],
   "source": [
    "#env_checker.check_env(env)"
   ]
  },
  {
   "cell_type": "code",
   "execution_count": null,
   "id": "a14ac124",
   "metadata": {},
   "outputs": [],
   "source": [
    "# Save our model every x number of steps\n",
    "class TrainAndLoggingCallback(BaseCallback):\n",
    "    \n",
    "    def __init__(self, check_freq, save_path, verbose=1):\n",
    "        super(TrainAndLoggingCallback, self).__init__(verbose)\n",
    "        self.check_freq = check_freq\n",
    "        self.save_path = save_path\n",
    "        \n",
    "    def _init_callback(self):\n",
    "        if self.save_path is not None:\n",
    "            os.makedirs(self.save_path, exist_ok=True)\n",
    "            \n",
    "    def _on_step(self):\n",
    "        if self.n_calls % self.check_freq == 0:\n",
    "            model_path = os.path.join(self.save_path, 'best_model_{}'.format(self.n_calls))\n",
    "            self.model.save(model_path)\n",
    "            \n",
    "        return True"
   ]
  },
  {
   "cell_type": "code",
   "execution_count": null,
   "id": "541786a8",
   "metadata": {},
   "outputs": [],
   "source": [
    "CHECKPOINT_DIR = './train/'\n",
    "LOG_DIR = './logs/'"
   ]
  },
  {
   "cell_type": "code",
   "execution_count": null,
   "id": "77a663fb",
   "metadata": {},
   "outputs": [],
   "source": [
    "callback = TrainAndLoggingCallback(check_freq=1000000, save_path=CHECKPOINT_DIR)"
   ]
  },
  {
   "cell_type": "code",
   "execution_count": null,
   "id": "3989615e",
   "metadata": {},
   "outputs": [],
   "source": [
    "# Deep-Q Network\n",
    "from stable_baselines3 import DQN"
   ]
  },
  {
   "cell_type": "code",
   "execution_count": null,
   "id": "7a86f27c",
   "metadata": {},
   "outputs": [],
   "source": [
    "# Buffer size: Depends on the memory of the device that is running it\n",
    "model = DQN('CnnPolicy', env, tensorboard_log=LOG_DIR, verbose=1, buffer_size=130000, learning_starts=1000)"
   ]
  },
  {
   "cell_type": "code",
   "execution_count": null,
   "id": "49fd2a63",
   "metadata": {},
   "outputs": [],
   "source": [
    "model.learn(total_timesteps=2000000, callback=callback)"
   ]
  },
  {
   "cell_type": "markdown",
   "id": "4ff62b03",
   "metadata": {},
   "source": [
    "# 4. Test the Model"
   ]
  },
  {
   "cell_type": "code",
   "execution_count": null,
   "id": "2963bc4e",
   "metadata": {},
   "outputs": [],
   "source": [
    "model = DQN.load(r'C:\\Users\\yacoo\\DinoAI\\train\\best_model_88000')"
   ]
  },
  {
   "cell_type": "code",
   "execution_count": null,
   "id": "3ea0688b",
   "metadata": {},
   "outputs": [],
   "source": [
    "#for episode in range(50):\n",
    "    #obs = env.reset()\n",
    "    #done = False\n",
    "    #total_reward = 0\n",
    "    \n",
    "    #while not done:\n",
    "        # Unpacking\n",
    "        #action, _ = model.predict(obs)\n",
    "        #obs, reward, done, info = env.step(int(action))\n",
    "        #total_reward += reward\n",
    "    #print('Total Reward for episode {} is {}'.format(episode, total_reward))"
   ]
  }
 ],
 "metadata": {
  "kernelspec": {
   "display_name": "Python 3 (ipykernel)",
   "language": "python",
   "name": "python3"
  },
  "language_info": {
   "codemirror_mode": {
    "name": "ipython",
    "version": 3
   },
   "file_extension": ".py",
   "mimetype": "text/x-python",
   "name": "python",
   "nbconvert_exporter": "python",
   "pygments_lexer": "ipython3",
   "version": "3.10.9"
  }
 },
 "nbformat": 4,
 "nbformat_minor": 5
}
